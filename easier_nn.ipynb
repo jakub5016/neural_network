{
 "cells": [
  {
   "cell_type": "code",
   "execution_count": 19,
   "metadata": {},
   "outputs": [],
   "source": [
    "import numpy as np"
   ]
  },
  {
   "cell_type": "code",
   "execution_count": 25,
   "metadata": {},
   "outputs": [
    {
     "name": "stdout",
     "output_type": "stream",
     "text": [
      "[[-1.38732634  0.31231542 -0.08158188 -1.08611046]\n",
      " [ 0.44945692  1.87727515 -0.11459003 -0.40123467]\n",
      " [-0.93499266 -0.4396549  -0.06301106  0.31843441]] [[0. 0. 0. 0.]] [[-0.73726954]\n",
      " [ 1.13236436]\n",
      " [ 0.48907067]\n",
      " [ 1.18368968]] [[0.]]\n"
     ]
    },
    {
     "data": {
      "text/plain": [
       "(array([[0.48873909]]),\n",
       " 0.2613877134275396,\n",
       " array([[-0.10244895,  0.43508093, -0.81313071]]))"
      ]
     },
     "execution_count": 25,
     "metadata": {},
     "output_type": "execute_result"
    }
   ],
   "source": [
    "W1 = np.random.randn(3, 4)\n",
    "b1 = np.zeros((1, 4))\n",
    "W2 = np.random.randn(4, 1)\n",
    "b2 = np.zeros((1, 1))\n",
    "\n",
    "\n",
    "X = np.random.randn(1, 3)\n",
    "\n",
    "\n",
    "Z1 = np.dot(X, W1) + b1\n",
    "A1 = np.maximum(0, Z1)  # ReLU activation\n",
    "Z2 = np.dot(A1, W2) + b2\n",
    "Y_pred = Z2  # Linear activation for the output layer\n",
    "\n",
    "# Loss calculation (MSE)\n",
    "Y_true = 1\n",
    "L = np.mean((Y_true - Y_pred)**2)\n",
    "\n",
    "print(W1, b1, W2, b2)\n",
    "\n",
    "Y_pred, L, X"
   ]
  },
  {
   "cell_type": "code",
   "execution_count": 21,
   "metadata": {},
   "outputs": [],
   "source": [
    "# Compute gradients for the output layer\n",
    "dZ2 = 2 * (Y_pred - Y_true)  # Derivative of MSE loss with respect to Z2\n",
    "dW2 = np.dot(A1.T, dZ2)\n",
    "db2 = np.sum(dZ2, axis=0, keepdims=True)\n",
    "\n",
    "# Compute gradients for the hidden layer\n",
    "dA1 = np.dot(dZ2, W2.T)\n",
    "dZ1 = dA1 * (Z1 > 0)  # Derivative of ReLU activation\n",
    "dW1 = np.dot(X.T, dZ1)\n",
    "db1 = np.sum(dZ1, axis=0, keepdims=True)"
   ]
  },
  {
   "cell_type": "code",
   "execution_count": 22,
   "metadata": {},
   "outputs": [
    {
     "name": "stdout",
     "output_type": "stream",
     "text": [
      "[[-0.47326784  0.1957852  -1.02812372  0.60239286]\n",
      " [-1.05680007  0.12566982 -2.08446374 -1.78786444]\n",
      " [ 0.43295509 -1.60741735  1.45988432  0.35988672]] [[ 0.28129526  0.         -0.05304312 -0.02272583]] [[1.4651426 ]\n",
      " [1.16665467]\n",
      " [0.4654551 ]\n",
      " [0.12325311]] [[0.21277135]]\n"
     ]
    }
   ],
   "source": [
    "learning_rate = 0.1\n",
    "\n",
    "W2 = W2 - learning_rate * dW2\n",
    "b2 = b2 - learning_rate * db2\n",
    "\n",
    "\n",
    "W1 = W1 - learning_rate * dW1\n",
    "b1 = b1 - learning_rate * db1\n",
    "\n",
    "print(W1, b1, W2, b2)"
   ]
  }
 ],
 "metadata": {
  "kernelspec": {
   "display_name": "venv",
   "language": "python",
   "name": "python3"
  },
  "language_info": {
   "codemirror_mode": {
    "name": "ipython",
    "version": 3
   },
   "file_extension": ".py",
   "mimetype": "text/x-python",
   "name": "python",
   "nbconvert_exporter": "python",
   "pygments_lexer": "ipython3",
   "version": "3.10.12"
  }
 },
 "nbformat": 4,
 "nbformat_minor": 2
}
